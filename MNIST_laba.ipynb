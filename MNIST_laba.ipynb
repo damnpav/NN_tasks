{
  "nbformat": 4,
  "nbformat_minor": 0,
  "metadata": {
    "colab": {
      "provenance": []
    },
    "kernelspec": {
      "name": "python3",
      "display_name": "Python 3"
    },
    "language_info": {
      "name": "python"
    }
  },
  "cells": [
    {
      "cell_type": "code",
      "execution_count": 1,
      "metadata": {
        "id": "LfWnqhONuSxJ"
      },
      "outputs": [],
      "source": [
        "from tensorflow.keras.datasets import mnist #Загружаем базу mnist\n",
        "from tensorflow.keras.datasets import cifar10 #Загружаем базу cifar10\n",
        "from tensorflow.keras.datasets import cifar100 #Загружаем базу cifar100\n",
        "\n",
        "from tensorflow.keras.models import Sequential #Сеть прямого распространения\n",
        "#Базовые слои для счёрточных сетей\n",
        "from tensorflow.keras.layers import Dense, Conv2D, MaxPooling2D, Flatten, Dropout, BatchNormalization\n",
        "#from tensorflow.python.keras.preprocessing.image import ImageDataGenerator # работа с изображениями\n",
        "from tensorflow.keras.optimizers import Adam, Adadelta # оптимизаторы\n",
        "from tensorflow.keras import utils #Используем для to_categoricall\n",
        "from tensorflow.keras.preprocessing import image #Для отрисовки изображений\n",
        "from google.colab import files #Для загрузки своей картинки\n",
        "import numpy as np #Библиотека работы с массивами\n",
        "import matplotlib.pyplot as plt #Для отрисовки графиков\n",
        "from PIL import Image #Для отрисовки изображений\n",
        "import random #Для генерации случайных чисел \n",
        "import math # Для округления\n",
        "import os #Для работы с файлами \n",
        "# подключем диск\n",
        "from google.colab import drive\n",
        "\n",
        "%matplotlib inline"
      ]
    },
    {
      "cell_type": "code",
      "source": [
        "from google.colab import drive\n",
        "drive.mount('/content/drive')"
      ],
      "metadata": {
        "colab": {
          "base_uri": "https://localhost:8080/"
        },
        "id": "UxcS-y5WuiPD",
        "outputId": "15184fec-1d02-4046-9e51-d4526a5a9f85"
      },
      "execution_count": 2,
      "outputs": [
        {
          "output_type": "stream",
          "name": "stdout",
          "text": [
            "Mounted at /content/drive\n"
          ]
        }
      ]
    },
    {
      "cell_type": "code",
      "source": [
        "#Загружаем MNIST\n",
        "(x_train, y_train), (x_test, y_test) = mnist.load_data()"
      ],
      "metadata": {
        "colab": {
          "base_uri": "https://localhost:8080/"
        },
        "id": "rLOuLd19ulON",
        "outputId": "159a7d29-9b91-4d63-f436-15dcbae145db"
      },
      "execution_count": 3,
      "outputs": [
        {
          "output_type": "stream",
          "name": "stdout",
          "text": [
            "Downloading data from https://storage.googleapis.com/tensorflow/tf-keras-datasets/mnist.npz\n",
            "11490434/11490434 [==============================] - 0s 0us/step\n"
          ]
        }
      ]
    },
    {
      "cell_type": "code",
      "source": [
        "#Выводим для примера картинки по каждому классу\n",
        "\n",
        "fig, axs = plt.subplots(1, 10, figsize=(25, 3)) #Создаем полотно из 10 графиков\n",
        "for i in range(10): #Проходим по классам от 0 до 9\n",
        "  label_indexes = np.where(y_train==i)[0] #Получаем список из индексов положений класса i в y_train\n",
        "  index = random.choice(label_indexes) #Случайным образом выбираем из списка индекс\n",
        "  img = x_train[index] #Выбираем из x_train нужное изображение\n",
        "  axs[i].imshow(Image.fromarray(img), cmap='gray') #Отображаем изображение i-ым графиков\n",
        "\n",
        "plt.show() #Показываем изображения"
      ],
      "metadata": {
        "colab": {
          "base_uri": "https://localhost:8080/",
          "height": 156
        },
        "id": "JSPXYbBLuqpA",
        "outputId": "1268868b-2779-41e3-e2f5-c5cc089f62fb"
      },
      "execution_count": 4,
      "outputs": [
        {
          "output_type": "display_data",
          "data": {
            "text/plain": [
              "<Figure size 1800x216 with 10 Axes>"
            ],
            "image/png": "[encoded data removed]"
          },
          "metadata": {
            "needs_background": "light"
          }
        }
      ]
    },
    {
      "cell_type": "code",
      "source": [
        "y_train"
      ],
      "metadata": {
        "colab": {
          "base_uri": "https://localhost:8080/"
        },
        "id": "iRuv3RsuuutU",
        "outputId": "91b3dda3-a5f3-42b6-f7fe-7f9cc227b137"
      },
      "execution_count": 7,
      "outputs": [
        {
          "output_type": "execute_result",
          "data": {
            "text/plain": [
              "array([5, 0, 4, ..., 5, 6, 8], dtype=uint8)"
            ]
          },
          "metadata": {},
          "execution_count": 7
        }
      ]
    },
    {
      "cell_type": "code",
      "source": [
        "img = x_train[0]\n",
        "fig, axs = plt.subplots(1, 2, figsize=(25, 3))\n",
        "axs[0].imshow(Image.fromarray(img), cmap='gray')\n",
        "plt.show() "
      ],
      "metadata": {
        "colab": {
          "base_uri": "https://localhost:8080/",
          "height": 215
        },
        "id": "_MuTxg4pu1uP",
        "outputId": "62bf0d80-d113-4d90-c4c0-5f3fc7918623"
      },
      "execution_count": 17,
      "outputs": [
        {
          "output_type": "display_data",
          "data": {
            "text/plain": [
              "<Figure size 1800x216 with 2 Axes>"
            ],
            "image/png": "[encoded data removed]"
          },
          "metadata": {
            "needs_background": "light"
          }
        }
      ]
    },
    {
      "cell_type": "code",
      "source": [
        "# разделим выборку на четные и нечетные"
      ],
      "metadata": {
        "id": "4lJpDKgeu6bt"
      },
      "execution_count": 18,
      "outputs": []
    },
    {
      "cell_type": "code",
      "source": [
        "x_train_even = []\n",
        "x_train_odd = []\n",
        "y_train_even = []\n",
        "y_train_odd = []\n",
        "\n",
        "x_test_even = []\n",
        "x_test_odd = []\n",
        "y_test_even = []\n",
        "y_test_odd = []"
      ],
      "metadata": {
        "id": "Bvb8jnCNvYrS"
      },
      "execution_count": 45,
      "outputs": []
    },
    {
      "cell_type": "code",
      "source": [
        "# делим выборку на четные и нечетные числа\n",
        "k = 0\n",
        "for x in x_train:\n",
        "  if y_train[k] % 2 == 0:\n",
        "    x_train_even.append(x)\n",
        "    y_train_even.append(y_train[k])\n",
        "  else:\n",
        "    x_train_odd.append(x)\n",
        "    y_train_odd.append(y_train[k])\n",
        "  k += 1 \n",
        "\n",
        "x_train_even = np.array(x_train_even)\n",
        "x_train_odd = np.array(x_train_odd)\n",
        "y_train_even = np.array(y_train_even)\n",
        "y_train_odd = np.array(y_train_odd)"
      ],
      "metadata": {
        "id": "bSvTJnF3v2ss"
      },
      "execution_count": 46,
      "outputs": []
    },
    {
      "cell_type": "code",
      "source": [
        "# делим выборку на четные и нечетные числа\n",
        "k = 0\n",
        "for x in x_test:\n",
        "  if y_train[k] % 2 == 0:\n",
        "    x_test_even.append(x)\n",
        "    y_test_even.append(y_test[k])\n",
        "  else:\n",
        "    x_test_odd.append(x)\n",
        "    y_test_odd.append(y_test[k])\n",
        "  k += 1 \n",
        "\n",
        "x_test_even = np.array(x_test_even)\n",
        "x_test_odd = np.array(x_test_odd)\n",
        "y_test_even = np.array(y_test_even)\n",
        "y_test_odd = np.array(y_test_odd)"
      ],
      "metadata": {
        "id": "GnA2z16Mxb9l"
      },
      "execution_count": 47,
      "outputs": []
    },
    {
      "cell_type": "code",
      "source": [
        "### сеть для четных чисел"
      ],
      "metadata": {
        "id": "lJyXUPkiwb-L"
      },
      "execution_count": 53,
      "outputs": []
    },
    {
      "cell_type": "code",
      "source": [
        "#Превращаем y_train и y_test сетей в формат one hot encoding\n",
        "y_train = utils.to_categorical(y_train_even, 10)\n",
        "y_test = utils.to_categorical(y_test_even, 10)\n",
        "\n",
        "#Меняем формат данных MNIST\n",
        "#Надо добавить в конце размерность 1\n",
        "#Чтобы свёрточная сеть понимала, что это чёрно-белые данные\n",
        "x_train = x_train_even.reshape(x_train_even.shape[0], 28, 28, 1)\n",
        "x_test = x_test_even.reshape(x_test_even.shape[0], 28, 28, 1)"
      ],
      "metadata": {
        "id": "FdvJSJmvwk0S"
      },
      "execution_count": 57,
      "outputs": []
    },
    {
      "cell_type": "code",
      "source": [
        "# Посмотрим форматы выборок перед обучением\n",
        "print(x_train.shape)\n",
        "print(x_test.shape)\n",
        "print(y_train.shape)\n",
        "print(y_test.shape)"
      ],
      "metadata": {
        "colab": {
          "base_uri": "https://localhost:8080/"
        },
        "id": "LhPDCGt3xBpm",
        "outputId": "02dccc74-4d5d-4bc1-f84d-b475df97a7d4"
      },
      "execution_count": 58,
      "outputs": [
        {
          "output_type": "stream",
          "name": "stdout",
          "text": [
            "(29492, 28, 28, 1)\n",
            "(4930, 28, 28, 1)\n",
            "(29492, 10)\n",
            "(4930, 10)\n"
          ]
        }
      ]
    },
    {
      "cell_type": "code",
      "source": [
        "# нейронная сеть"
      ],
      "metadata": {
        "id": "CykwHmAbyKsU"
      },
      "execution_count": 50,
      "outputs": []
    },
    {
      "cell_type": "code",
      "source": [
        "#задаём batch_size\n",
        "batch_size = 128 \n",
        "\n",
        "#Создаем последовательную модель\n",
        "model = Sequential()\n",
        "#Слой пакетной нормализации\n",
        "model.add(BatchNormalization(input_shape=(28, 28, 1)))\n",
        "#Первый сверточный слой\n",
        "model.add(Conv2D(32, (3, 3), padding='same', activation='relu'))\n",
        "#Второй сверточный слой\n",
        "model.add(Conv2D(32, (3, 3), padding='same', activation='relu'))\n",
        "#Первый слой подвыборки\n",
        "model.add(MaxPooling2D(pool_size=(2, 2)))\n",
        "#Слой регуляризации Dropout\n",
        "model.add(Dropout(0.25))\n",
        "model.add(Flatten())\n",
        "#Полносвязный слой для классификации\n",
        "model.add(Dense(256, activation='relu'))\n",
        "#Слой регуляризации Dropout\n",
        "model.add(Dropout(0.25))\n",
        "#Выходной полносвязный слой\n",
        "model.add(Dense(10, activation='softmax'))\n",
        "\n",
        "#Компилируем сеть\n",
        "model.compile(loss=\"categorical_crossentropy\", optimizer=\"adam\", metrics=[\"accuracy\"])"
      ],
      "metadata": {
        "id": "rISZfHAPyOk2"
      },
      "execution_count": 59,
      "outputs": []
    },
    {
      "cell_type": "code",
      "source": [
        "model.summary()"
      ],
      "metadata": {
        "colab": {
          "base_uri": "https://localhost:8080/"
        },
        "id": "wVKQzMdIyQFD",
        "outputId": "86cf37d9-ebb6-4ac0-b875-929184797bf9"
      },
      "execution_count": 60,
      "outputs": [
        {
          "output_type": "stream",
          "name": "stdout",
          "text": [
            "Model: \"sequential_1\"\n",
            "_________________________________________________________________\n",
            " Layer (type)                Output Shape              Param #   \n",
            "=================================================================\n",
            " batch_normalization_1 (Batc  (None, 28, 28, 1)        4         \n",
            " hNormalization)                                                 \n",
            "                                                                 \n",
            " conv2d_2 (Conv2D)           (None, 28, 28, 32)        320       \n",
            "                                                                 \n",
            " conv2d_3 (Conv2D)           (None, 28, 28, 32)        9248      \n",
            "                                                                 \n",
            " max_pooling2d_1 (MaxPooling  (None, 14, 14, 32)       0         \n",
            " 2D)                                                             \n",
            "                                                                 \n",
            " dropout_2 (Dropout)         (None, 14, 14, 32)        0         \n",
            "                                                                 \n",
            " flatten_1 (Flatten)         (None, 6272)              0         \n",
            "                                                                 \n",
            " dense_2 (Dense)             (None, 256)               1605888   \n",
            "                                                                 \n",
            " dropout_3 (Dropout)         (None, 256)               0         \n",
            "                                                                 \n",
            " dense_3 (Dense)             (None, 10)                2570      \n",
            "                                                                 \n",
            "=================================================================\n",
            "Total params: 1,618,030\n",
            "Trainable params: 1,618,028\n",
            "Non-trainable params: 2\n",
            "_________________________________________________________________\n"
          ]
        }
      ]
    },
    {
      "cell_type": "code",
      "source": [
        "#Обучаем сеть на данных mnist\n",
        "history = model.fit(x_train, \n",
        "                    y_train, \n",
        "                    batch_size=128, \n",
        "                    epochs=15,\n",
        "                    validation_data=(x_test, y_test),\n",
        "                    verbose=1)\n",
        "                  "
      ],
      "metadata": {
        "colab": {
          "base_uri": "https://localhost:8080/"
        },
        "id": "s02vcQorySkR",
        "outputId": "e1e45b65-f52e-4e7f-d7f7-5364588f079c"
      },
      "execution_count": 61,
      "outputs": [
        {
          "output_type": "stream",
          "name": "stdout",
          "text": [
            "Epoch 1/15\n",
            "231/231 [==============================] - 91s 388ms/step - loss: 0.1180 - accuracy: 0.9620 - val_loss: 6.7582 - val_accuracy: 0.4913\n",
            "Epoch 2/15\n",
            "231/231 [==============================] - 98s 424ms/step - loss: 0.0278 - accuracy: 0.9907 - val_loss: 6.4867 - val_accuracy: 0.4892\n",
            "Epoch 3/15\n",
            "231/231 [==============================] - 83s 358ms/step - loss: 0.0195 - accuracy: 0.9936 - val_loss: 6.3790 - val_accuracy: 0.4909\n",
            "Epoch 4/15\n",
            "231/231 [==============================] - 78s 338ms/step - loss: 0.0135 - accuracy: 0.9955 - val_loss: 7.5744 - val_accuracy: 0.4909\n",
            "Epoch 5/15\n",
            "231/231 [==============================] - 79s 343ms/step - loss: 0.0090 - accuracy: 0.9967 - val_loss: 8.7099 - val_accuracy: 0.4911\n",
            "Epoch 6/15\n",
            "231/231 [==============================] - 77s 333ms/step - loss: 0.0091 - accuracy: 0.9964 - val_loss: 8.9626 - val_accuracy: 0.4905\n",
            "Epoch 7/15\n",
            "231/231 [==============================] - 79s 344ms/step - loss: 0.0077 - accuracy: 0.9972 - val_loss: 9.6971 - val_accuracy: 0.4909\n",
            "Epoch 8/15\n",
            "231/231 [==============================] - 77s 332ms/step - loss: 0.0060 - accuracy: 0.9980 - val_loss: 9.4868 - val_accuracy: 0.4909\n",
            "Epoch 9/15\n",
            "231/231 [==============================] - 79s 344ms/step - loss: 0.0044 - accuracy: 0.9986 - val_loss: 10.3372 - val_accuracy: 0.4929\n",
            "Epoch 10/15\n",
            "231/231 [==============================] - 77s 334ms/step - loss: 0.0065 - accuracy: 0.9977 - val_loss: 10.2570 - val_accuracy: 0.4925\n",
            "Epoch 11/15\n",
            "231/231 [==============================] - 79s 342ms/step - loss: 0.0040 - accuracy: 0.9984 - val_loss: 10.7894 - val_accuracy: 0.4925\n",
            "Epoch 12/15\n",
            "231/231 [==============================] - 76s 331ms/step - loss: 0.0047 - accuracy: 0.9987 - val_loss: 10.5774 - val_accuracy: 0.4919\n",
            "Epoch 13/15\n",
            "231/231 [==============================] - 80s 345ms/step - loss: 0.0043 - accuracy: 0.9984 - val_loss: 11.4780 - val_accuracy: 0.4921\n",
            "Epoch 14/15\n",
            "231/231 [==============================] - 79s 344ms/step - loss: 0.0027 - accuracy: 0.9990 - val_loss: 10.7010 - val_accuracy: 0.4919\n",
            "Epoch 15/15\n",
            "231/231 [==============================] - 77s 334ms/step - loss: 0.0036 - accuracy: 0.9989 - val_loss: 11.3129 - val_accuracy: 0.4923\n"
          ]
        }
      ]
    },
    {
      "cell_type": "code",
      "source": [
        "#Отображаем график точности обучения\n",
        "plt.plot(history.history['accuracy'], \n",
        "         label='Доля верных ответов на обучающем наборе')\n",
        "plt.plot(history.history['val_accuracy'], \n",
        "         label='Доля верных ответов на проверочном наборе')\n",
        "plt.xlabel('Эпоха обучения')\n",
        "plt.ylabel('Доля верных ответов')\n",
        "plt.legend()\n",
        "plt.show()"
      ],
      "metadata": {
        "colab": {
          "base_uri": "https://localhost:8080/",
          "height": 279
        },
        "id": "hXBM92ZryaGr",
        "outputId": "307e2441-5021-4be8-f760-03e2438898e0"
      },
      "execution_count": 62,
      "outputs": [
        {
          "output_type": "display_data",
          "data": {
            "text/plain": [
              "<Figure size 432x288 with 1 Axes>"
            ],
            "image/png": "[encoded data removed]"
          },
          "metadata": {
            "needs_background": "light"
          }
        }
      ]
    },
    {
      "cell_type": "code",
      "source": [
        "#Выбираем номер пример\n",
        "n = np.random.randint(x_test.shape[0])\n",
        "#Получаем выход сети на этом примере\n",
        "prediction = model.predict(x_test)\n",
        "\n",
        "#Выводим на экран результаты\n",
        "print(\"Выход сети: \", prediction[n])\n",
        "print(\"Распознанная цифра: \", np.argmax(prediction[n]))\n",
        "print(\"Верный ответ: \", np.argmax(y_test[n]))"
      ],
      "metadata": {
        "colab": {
          "base_uri": "https://localhost:8080/"
        },
        "id": "uPNAvlwey7Gf",
        "outputId": "45b6c918-e9b5-4cf1-f13f-cbe912494ea6"
      },
      "execution_count": 63,
      "outputs": [
        {
          "output_type": "stream",
          "name": "stdout",
          "text": [
            "155/155 [==============================] - 3s 21ms/step\n",
            "Выход сети:  [9.0788814e-16 8.5308659e-17 5.5150294e-16 1.4954547e-17 3.8367547e-12\n",
            " 8.9873473e-19 9.9999994e-01 6.9384225e-19 2.4473717e-13 6.4223399e-16]\n",
            "Распознанная цифра:  6\n",
            "Верный ответ:  6\n"
          ]
        }
      ]
    },
    {
      "cell_type": "code",
      "source": [
        "model_even = model"
      ],
      "metadata": {
        "id": "J7iahok4y66g"
      },
      "execution_count": 64,
      "outputs": []
    },
    {
      "cell_type": "code",
      "source": [],
      "metadata": {
        "id": "8bCzFJwWzHgg"
      },
      "execution_count": null,
      "outputs": []
    },
    {
      "cell_type": "code",
      "source": [
        "### сеть для нечетных чисел"
      ],
      "metadata": {
        "id": "uDnQCgKYzHc2"
      },
      "execution_count": null,
      "outputs": []
    },
    {
      "cell_type": "code",
      "source": [
        "#Превращаем y_train и y_test сетей в формат one hot encoding\n",
        "y_train = utils.to_categorical(y_train_odd, 10)\n",
        "y_test = utils.to_categorical(y_test_odd, 10)\n",
        "\n",
        "#Меняем формат данных MNIST\n",
        "#Надо добавить в конце размерность 1\n",
        "#Чтобы свёрточная сеть понимала, что это чёрно-белые данные\n",
        "x_train = x_train_odd.reshape(x_train_odd.shape[0], 28, 28, 1)\n",
        "x_test = x_test_odd.reshape(x_test_odd.shape[0], 28, 28, 1)"
      ],
      "metadata": {
        "id": "Diy4nXoFzS3l"
      },
      "execution_count": 65,
      "outputs": []
    },
    {
      "cell_type": "code",
      "source": [
        "# Посмотрим форматы выборок перед обучением\n",
        "print(x_train.shape)\n",
        "print(x_test.shape)\n",
        "print(y_train.shape)\n",
        "print(y_test.shape)"
      ],
      "metadata": {
        "colab": {
          "base_uri": "https://localhost:8080/"
        },
        "outputId": "74809944-5918-4249-aba1-8c921b7ebeb8",
        "id": "EAAgdVeNzS3n"
      },
      "execution_count": 66,
      "outputs": [
        {
          "output_type": "stream",
          "name": "stdout",
          "text": [
            "(30508, 28, 28, 1)\n",
            "(5070, 28, 28, 1)\n",
            "(30508, 10)\n",
            "(5070, 10)\n"
          ]
        }
      ]
    },
    {
      "cell_type": "code",
      "source": [
        "# нейронная сеть"
      ],
      "metadata": {
        "id": "VqXN5GIkzS3o"
      },
      "execution_count": null,
      "outputs": []
    },
    {
      "cell_type": "code",
      "source": [
        "#задаём batch_size\n",
        "batch_size = 128 \n",
        "\n",
        "#Создаем последовательную модель\n",
        "model = Sequential()\n",
        "#Слой пакетной нормализации\n",
        "model.add(BatchNormalization(input_shape=(28, 28, 1)))\n",
        "#Первый сверточный слой\n",
        "model.add(Conv2D(32, (3, 3), padding='same', activation='relu'))\n",
        "#Второй сверточный слой\n",
        "model.add(Conv2D(32, (3, 3), padding='same', activation='relu'))\n",
        "#Первый слой подвыборки\n",
        "model.add(MaxPooling2D(pool_size=(2, 2)))\n",
        "#Слой регуляризации Dropout\n",
        "model.add(Dropout(0.25))\n",
        "model.add(Flatten())\n",
        "#Полносвязный слой для классификации\n",
        "model.add(Dense(256, activation='relu'))\n",
        "#Слой регуляризации Dropout\n",
        "model.add(Dropout(0.25))\n",
        "#Выходной полносвязный слой\n",
        "model.add(Dense(10, activation='softmax'))\n",
        "\n",
        "#Компилируем сеть\n",
        "model.compile(loss=\"categorical_crossentropy\", optimizer=\"adam\", metrics=[\"accuracy\"])"
      ],
      "metadata": {
        "id": "GgWn6AFxzS3o"
      },
      "execution_count": 67,
      "outputs": []
    },
    {
      "cell_type": "code",
      "source": [
        "model.summary()"
      ],
      "metadata": {
        "colab": {
          "base_uri": "https://localhost:8080/"
        },
        "outputId": "dccbaa59-29a3-48b7-889f-1dca517374e9",
        "id": "dHhXZ5R7zS3p"
      },
      "execution_count": 68,
      "outputs": [
        {
          "output_type": "stream",
          "name": "stdout",
          "text": [
            "Model: \"sequential_2\"\n",
            "_________________________________________________________________\n",
            " Layer (type)                Output Shape              Param #   \n",
            "=================================================================\n",
            " batch_normalization_2 (Batc  (None, 28, 28, 1)        4         \n",
            " hNormalization)                                                 \n",
            "                                                                 \n",
            " conv2d_4 (Conv2D)           (None, 28, 28, 32)        320       \n",
            "                                                                 \n",
            " conv2d_5 (Conv2D)           (None, 28, 28, 32)        9248      \n",
            "                                                                 \n",
            " max_pooling2d_2 (MaxPooling  (None, 14, 14, 32)       0         \n",
            " 2D)                                                             \n",
            "                                                                 \n",
            " dropout_4 (Dropout)         (None, 14, 14, 32)        0         \n",
            "                                                                 \n",
            " flatten_2 (Flatten)         (None, 6272)              0         \n",
            "                                                                 \n",
            " dense_4 (Dense)             (None, 256)               1605888   \n",
            "                                                                 \n",
            " dropout_5 (Dropout)         (None, 256)               0         \n",
            "                                                                 \n",
            " dense_5 (Dense)             (None, 10)                2570      \n",
            "                                                                 \n",
            "=================================================================\n",
            "Total params: 1,618,030\n",
            "Trainable params: 1,618,028\n",
            "Non-trainable params: 2\n",
            "_________________________________________________________________\n"
          ]
        }
      ]
    },
    {
      "cell_type": "code",
      "source": [
        "#Обучаем сеть на данных mnist\n",
        "history = model.fit(x_train, \n",
        "                    y_train, \n",
        "                    batch_size=128, \n",
        "                    epochs=15,\n",
        "                    validation_data=(x_test, y_test),\n",
        "                    verbose=1)\n",
        "                  "
      ],
      "metadata": {
        "colab": {
          "base_uri": "https://localhost:8080/"
        },
        "outputId": "601e99f4-db73-4c0d-9dd6-e7e5a9abd28b",
        "id": "Qd7WIEtNzS3p"
      },
      "execution_count": 69,
      "outputs": [
        {
          "output_type": "stream",
          "name": "stdout",
          "text": [
            "Epoch 1/15\n",
            "239/239 [==============================] - 83s 343ms/step - loss: 0.1189 - accuracy: 0.9593 - val_loss: 6.8526 - val_accuracy: 0.5043\n",
            "Epoch 2/15\n",
            "239/239 [==============================] - 79s 332ms/step - loss: 0.0350 - accuracy: 0.9901 - val_loss: 6.4334 - val_accuracy: 0.5061\n",
            "Epoch 3/15\n",
            "239/239 [==============================] - 82s 342ms/step - loss: 0.0223 - accuracy: 0.9933 - val_loss: 6.9837 - val_accuracy: 0.5049\n",
            "Epoch 4/15\n",
            "239/239 [==============================] - 81s 340ms/step - loss: 0.0158 - accuracy: 0.9949 - val_loss: 7.4872 - val_accuracy: 0.5071\n",
            "Epoch 5/15\n",
            "239/239 [==============================] - 79s 331ms/step - loss: 0.0127 - accuracy: 0.9962 - val_loss: 8.0505 - val_accuracy: 0.5069\n",
            "Epoch 6/15\n",
            "239/239 [==============================] - 81s 340ms/step - loss: 0.0104 - accuracy: 0.9963 - val_loss: 8.8806 - val_accuracy: 0.5061\n",
            "Epoch 7/15\n",
            "239/239 [==============================] - 79s 332ms/step - loss: 0.0096 - accuracy: 0.9967 - val_loss: 8.5107 - val_accuracy: 0.5069\n",
            "Epoch 8/15\n",
            "239/239 [==============================] - 81s 340ms/step - loss: 0.0077 - accuracy: 0.9975 - val_loss: 9.0279 - val_accuracy: 0.5067\n",
            "Epoch 9/15\n",
            "239/239 [==============================] - 81s 338ms/step - loss: 0.0063 - accuracy: 0.9978 - val_loss: 9.9519 - val_accuracy: 0.5067\n",
            "Epoch 10/15\n",
            "239/239 [==============================] - 80s 332ms/step - loss: 0.0060 - accuracy: 0.9981 - val_loss: 10.5574 - val_accuracy: 0.5051\n",
            "Epoch 11/15\n",
            "239/239 [==============================] - 81s 340ms/step - loss: 0.0055 - accuracy: 0.9979 - val_loss: 9.5846 - val_accuracy: 0.5065\n",
            "Epoch 12/15\n",
            "239/239 [==============================] - 79s 330ms/step - loss: 0.0064 - accuracy: 0.9977 - val_loss: 10.3517 - val_accuracy: 0.5067\n",
            "Epoch 13/15\n",
            "239/239 [==============================] - 81s 339ms/step - loss: 0.0051 - accuracy: 0.9983 - val_loss: 9.6385 - val_accuracy: 0.5071\n",
            "Epoch 14/15\n",
            "239/239 [==============================] - 79s 330ms/step - loss: 0.0038 - accuracy: 0.9988 - val_loss: 10.4724 - val_accuracy: 0.5065\n",
            "Epoch 15/15\n",
            "239/239 [==============================] - 81s 340ms/step - loss: 0.0040 - accuracy: 0.9985 - val_loss: 10.8855 - val_accuracy: 0.5065\n"
          ]
        }
      ]
    },
    {
      "cell_type": "code",
      "source": [
        "#Отображаем график точности обучения\n",
        "plt.plot(history.history['accuracy'], \n",
        "         label='Доля верных ответов на обучающем наборе')\n",
        "plt.plot(history.history['val_accuracy'], \n",
        "         label='Доля верных ответов на проверочном наборе')\n",
        "plt.xlabel('Эпоха обучения')\n",
        "plt.ylabel('Доля верных ответов')\n",
        "plt.legend()\n",
        "plt.show()"
      ],
      "metadata": {
        "colab": {
          "base_uri": "https://localhost:8080/",
          "height": 279
        },
        "id": "3a9FVkg-zS3p",
        "outputId": "20a4a1cd-0ff4-4286-b65c-e15940dedef8"
      },
      "execution_count": 70,
      "outputs": [
        {
          "output_type": "display_data",
          "data": {
            "text/plain": [
              "<Figure size 432x288 with 1 Axes>"
            ],
            "image/png": "[encoded data removed]"
          },
          "metadata": {
            "needs_background": "light"
          }
        }
      ]
    },
    {
      "cell_type": "code",
      "source": [
        "#Выбираем номер пример\n",
        "n = np.random.randint(x_test.shape[0])\n",
        "#Получаем выход сети на этом примере\n",
        "prediction = model.predict(x_test)\n",
        "\n",
        "#Выводим на экран результаты\n",
        "print(\"Выход сети: \", prediction[n])\n",
        "print(\"Распознанная цифра: \", np.argmax(prediction[n]))\n",
        "print(\"Верный ответ: \", np.argmax(y_test[n]))"
      ],
      "metadata": {
        "colab": {
          "base_uri": "https://localhost:8080/"
        },
        "id": "3aETajRwzS3p",
        "outputId": "f4c0f39f-220a-4f21-d0c9-c162a308985d"
      },
      "execution_count": 71,
      "outputs": [
        {
          "output_type": "stream",
          "name": "stdout",
          "text": [
            "159/159 [==============================] - 3s 21ms/step\n",
            "Выход сети:  [2.1500183e-22 2.1723001e-24 5.6876635e-24 3.1128283e-16 7.2261514e-23\n",
            " 2.8494271e-17 2.2568990e-22 1.6666864e-15 9.3233381e-23 9.9999994e-01]\n",
            "Распознанная цифра:  9\n",
            "Верный ответ:  9\n"
          ]
        }
      ]
    },
    {
      "cell_type": "code",
      "source": [
        "model_odd = model"
      ],
      "metadata": {
        "id": "JH2o-23gzS3q"
      },
      "execution_count": 72,
      "outputs": []
    },
    {
      "cell_type": "code",
      "source": [],
      "metadata": {
        "id": "yQ6kiGg1zm_w"
      },
      "execution_count": null,
      "outputs": []
    }
  ]
}